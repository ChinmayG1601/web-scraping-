{
  "nbformat": 4,
  "nbformat_minor": 0,
  "metadata": {
    "colab": {
      "provenance": []
    },
    "kernelspec": {
      "name": "python3",
      "display_name": "Python 3"
    },
    "language_info": {
      "name": "python"
    }
  },
  "cells": [
    {
      "cell_type": "code",
      "execution_count": 80,
      "metadata": {
        "id": "aiW0rycbbroa"
      },
      "outputs": [],
      "source": [
        "import pandas as pd\n",
        "import requests\n",
        "from bs4 import BeautifulSoup"
      ]
    },
    {
      "cell_type": "code",
      "source": [
        "### Here we get request to server for access \n",
        "### Headers we add because server denied are request there are some reason\n",
        "\n",
        "\n",
        "headers={'User-Agent':'Mozilla/5.0 (Windows NT 6.3; Win 64 ; x64) Apple WeKit /537.36(KHTML , like Gecko) Chrome/80.0.3987.162 Safari/537.36'}\n",
        "url = requests.get('https://www.imdb.com/calendar/?ref_=rlm&region=IN&type=MOVIE',headers=headers).text\n"
      ],
      "metadata": {
        "id": "vpmTOwznb1-T"
      },
      "execution_count": 81,
      "outputs": []
    },
    {
      "cell_type": "code",
      "source": [
        "# print(url)"
      ],
      "metadata": {
        "id": "mQ7U01JfhlbU"
      },
      "execution_count": 82,
      "outputs": []
    },
    {
      "cell_type": "code",
      "source": [
        "soup = BeautifulSoup(url,'lxml') "
      ],
      "metadata": {
        "id": "bSOXJTticpQF"
      },
      "execution_count": 83,
      "outputs": []
    },
    {
      "cell_type": "code",
      "source": [
        "# print(soup.prettify())"
      ],
      "metadata": {
        "id": "18J6ubrjnotf"
      },
      "execution_count": 84,
      "outputs": []
    },
    {
      "cell_type": "code",
      "source": [
        "from pandas.core.groupby.generic import generate_property\n",
        "section = soup.find('section',class_ = \"ipc-page-section ipc-page-section--base\")\n",
        "articles = section.findAll('article', class_=\"sc-191ebfe3-1 dbZtUN\")\n",
        "data = [[date,movie,gen]]\n",
        "sr = 0\n",
        "for article in articles:\n",
        "  date = article.find('h3',class_=\"ipc-title__text\").text\n",
        "  movies = article.findAll('div',class_=\"ipc-metadata-list-summary-item__tc\")\n",
        "  for movie in movies:\n",
        "    gen = movie.find('li',class_=\"ipc-inline-list__item\").text\n",
        "    sr+=sr\n",
        "    data.insert(sr,[date, movie.a.text,gen])"
      ],
      "metadata": {
        "id": "2uJljEVuXX5l"
      },
      "execution_count": 85,
      "outputs": []
    },
    {
      "cell_type": "code",
      "source": [
        "df = pd.DataFrame(data,columns=['date','movie','gen'])"
      ],
      "metadata": {
        "id": "jPrsN4fAZTXr"
      },
      "execution_count": 86,
      "outputs": []
    },
    {
      "cell_type": "code",
      "source": [
        "df.to_csv(\"Upcoming releases movie.csv\")"
      ],
      "metadata": {
        "id": "-OIFXys2Z0Ne"
      },
      "execution_count": 87,
      "outputs": []
    },
    {
      "cell_type": "code",
      "source": [],
      "metadata": {
        "id": "NbCiW9yX7l6w"
      },
      "execution_count": null,
      "outputs": []
    }
  ]
}